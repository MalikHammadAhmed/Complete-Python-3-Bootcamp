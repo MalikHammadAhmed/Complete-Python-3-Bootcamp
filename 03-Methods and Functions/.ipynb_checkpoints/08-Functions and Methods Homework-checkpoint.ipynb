{
  "cells": [
    {
      "cell_type": "markdown",
      "metadata": {
        "id": "Puq6xAyOhs2p"
      },
      "source": [
        "___\n",
        "\n",
        "<a href='https://www.udemy.com/user/joseportilla/'><img src='https://github.com/MalikHammadAhmed/Complete-Python-3-Bootcamp/blob/master/03-Methods%20and%20Functions/Pierian_Data_Logo.png?raw=1'/></a>\n",
        "___\n",
        "<center><em>Content Copyright by Pierian Data</em></center>"
      ]
    },
    {
      "cell_type": "markdown",
      "metadata": {
        "id": "HBh3DFB6hs2w"
      },
      "source": [
        "# Functions and Methods Homework \n",
        "\n",
        "Complete the following questions:\n",
        "____\n",
        "**Write a function that computes the volume of a sphere given its radius.**\n",
        "<p>The volume of a sphere is given as $$\\frac{4}{3} πr^3$$</p>"
      ]
    },
    {
      "cell_type": "code",
      "execution_count": 1,
      "metadata": {
        "collapsed": true,
        "id": "el2s2W0fhs2z"
      },
      "outputs": [],
      "source": [
        "def vol(rad):\n",
        "    return ((4*3.14*rad**3)/3)"
      ]
    },
    {
      "cell_type": "code",
      "execution_count": 2,
      "metadata": {
        "colab": {
          "base_uri": "https://localhost:8080/"
        },
        "id": "2St49gslhs21",
        "outputId": "d26ec5fc-0777-4567-c734-9676cbda29ad"
      },
      "outputs": [
        {
          "output_type": "execute_result",
          "data": {
            "text/plain": [
              "33.49333333333333"
            ]
          },
          "metadata": {},
          "execution_count": 2
        }
      ],
      "source": [
        "# Check\n",
        "vol(2)"
      ]
    },
    {
      "cell_type": "markdown",
      "metadata": {
        "id": "hRkNxIWGhs22"
      },
      "source": [
        "___\n",
        "**Write a function that checks whether a number is in a given range (inclusive of high and low)**"
      ]
    },
    {
      "cell_type": "code",
      "execution_count": 18,
      "metadata": {
        "collapsed": true,
        "id": "agNZBOxXhs22"
      },
      "outputs": [],
      "source": [
        "def ran_check(num,low,high):\n",
        "    if num>low and num < high:\n",
        "      print(\"{0} is in the range between {1} and {2}\" .format(num, low, high))\n",
        "    else:\n",
        "      print(\"{0} is in not the range between {1} and {2}\" .format(num, low, high))\n"
      ]
    },
    {
      "cell_type": "code",
      "execution_count": 19,
      "metadata": {
        "colab": {
          "base_uri": "https://localhost:8080/"
        },
        "id": "T5Nq_zjPhs23",
        "outputId": "581b5eee-544d-49b3-ef04-ae847ef16c3a"
      },
      "outputs": [
        {
          "output_type": "stream",
          "name": "stdout",
          "text": [
            "8 is in not the range between 2 and 7\n"
          ]
        }
      ],
      "source": [
        "# Check\n",
        "ran_check(8,2,7)"
      ]
    },
    {
      "cell_type": "markdown",
      "metadata": {
        "id": "1umLtC3lhs24"
      },
      "source": [
        "If you only wanted to return a boolean:"
      ]
    },
    {
      "cell_type": "code",
      "execution_count": 24,
      "metadata": {
        "collapsed": true,
        "id": "W4HosAmFhs25"
      },
      "outputs": [],
      "source": [
        "def ran_bool(num,low,high):\n",
        "    return num in range(low, high+1)#"
      ]
    },
    {
      "cell_type": "code",
      "execution_count": 26,
      "metadata": {
        "colab": {
          "base_uri": "https://localhost:8080/"
        },
        "id": "b9pcG5tjhs26",
        "outputId": "d3c51624-3ddb-4a80-fc8b-7dce77969ef7"
      },
      "outputs": [
        {
          "output_type": "execute_result",
          "data": {
            "text/plain": [
              "False"
            ]
          },
          "metadata": {},
          "execution_count": 26
        }
      ],
      "source": [
        "ran_bool(11,1,10)"
      ]
    },
    {
      "cell_type": "markdown",
      "metadata": {
        "id": "ZU8CdSyrhs27"
      },
      "source": [
        "____\n",
        "**Write a Python function that accepts a string and calculates the number of upper case letters and lower case letters.**\n",
        "\n",
        "    Sample String : 'Hello Mr. Rogers, how are you this fine Tuesday?'\n",
        "    Expected Output : \n",
        "    No. of Upper case characters : 4\n",
        "    No. of Lower case Characters : 33\n",
        "\n",
        "HINT: Two string methods that might prove useful: **.isupper()** and **.islower()**\n",
        "\n",
        "If you feel ambitious, explore the Collections module to solve this problem!"
      ]
    },
    {
      "cell_type": "code",
      "execution_count": 27,
      "metadata": {
        "collapsed": true,
        "id": "QNmNqLHYhs28"
      },
      "outputs": [],
      "source": [
        "def up_low(s):\n",
        "  uppercase = 0\n",
        "  lowercase = 0\n",
        "  for char in s:\n",
        "    if char.isupper():\n",
        "      uppercase +=1\n",
        "    elif char.islower():\n",
        "      lowercase +=1\n",
        "    else:\n",
        "      pass\n",
        "  print(\"No. of upper case characters : {0}\".format(uppercase))\n",
        "  print(\"No. of lower case characters : {0}\".format(lowercase))    "
      ]
    },
    {
      "cell_type": "code",
      "execution_count": 28,
      "metadata": {
        "colab": {
          "base_uri": "https://localhost:8080/"
        },
        "id": "8cY53ZwNhs29",
        "outputId": "d998d177-92cc-47c7-a384-197b0bc9915b"
      },
      "outputs": [
        {
          "output_type": "stream",
          "name": "stdout",
          "text": [
            "No. of upper case characters : 4\n",
            "No. of lower case characters : 33\n"
          ]
        }
      ],
      "source": [
        "s = 'Hello Mr. Rogers, how are you this fine Tuesday?'\n",
        "up_low(s)"
      ]
    },
    {
      "cell_type": "markdown",
      "metadata": {
        "id": "qeaZcn9Bhs2-"
      },
      "source": [
        "____\n",
        "**Write a Python function that takes a list and returns a new list with unique elements of the first list.**\n",
        "\n",
        "    Sample List : [1,1,1,1,2,2,3,3,3,3,4,5]\n",
        "    Unique List : [1, 2, 3, 4, 5]"
      ]
    },
    {
      "cell_type": "code",
      "execution_count": null,
      "metadata": {
        "collapsed": true,
        "id": "N5luIdJjhs2_"
      },
      "outputs": [],
      "source": [
        "def unique_list(lst):\n",
        "    seen_numbers = []\n",
        "    for n in lst:\n",
        "      if n not in unseen"
      ]
    },
    {
      "cell_type": "code",
      "execution_count": null,
      "metadata": {
        "id": "T_nABdmVhs2_",
        "outputId": "f5821c2f-b23e-4869-f927-1be0f7772663"
      },
      "outputs": [
        {
          "data": {
            "text/plain": [
              "[1, 2, 3, 4, 5]"
            ]
          },
          "execution_count": 10,
          "metadata": {},
          "output_type": "execute_result"
        }
      ],
      "source": [
        "unique_list([1,1,1,1,2,2,3,3,3,3,4,5])"
      ]
    },
    {
      "cell_type": "markdown",
      "metadata": {
        "id": "EzNWsbwKhs3A"
      },
      "source": [
        "____\n",
        "**Write a Python function to multiply all the numbers in a list.**\n",
        "\n",
        "    Sample List : [1, 2, 3, -4]\n",
        "    Expected Output : -24"
      ]
    },
    {
      "cell_type": "code",
      "execution_count": null,
      "metadata": {
        "collapsed": true,
        "id": "JeiIxQNahs3A"
      },
      "outputs": [],
      "source": [
        "def multiply(numbers):  \n",
        "    pass"
      ]
    },
    {
      "cell_type": "code",
      "execution_count": null,
      "metadata": {
        "id": "puBGtK_3hs3A",
        "outputId": "b4d603ef-a626-469c-ad9d-4488c42b28ca"
      },
      "outputs": [
        {
          "data": {
            "text/plain": [
              "-24"
            ]
          },
          "execution_count": 12,
          "metadata": {},
          "output_type": "execute_result"
        }
      ],
      "source": [
        "multiply([1,2,3,-4])"
      ]
    },
    {
      "cell_type": "markdown",
      "metadata": {
        "id": "NQX74LqPhs3B"
      },
      "source": [
        "____\n",
        "**Write a Python function that checks whether a word or phrase is palindrome or not.**\n",
        "\n",
        "Note: A palindrome is word, phrase, or sequence that reads the same backward as forward, e.g., madam,kayak,racecar, or a phrase \"nurses run\". Hint: You may want to check out the .replace() method in a string to help out with dealing with spaces. Also google search how to reverse a string in Python, there are some clever ways to do it with slicing notation."
      ]
    },
    {
      "cell_type": "code",
      "execution_count": null,
      "metadata": {
        "collapsed": true,
        "id": "Bq2PSO_Jhs3C"
      },
      "outputs": [],
      "source": [
        "def palindrome(s):\n",
        "    pass"
      ]
    },
    {
      "cell_type": "code",
      "execution_count": null,
      "metadata": {
        "id": "qEozm3sChs3D",
        "outputId": "97edcf50-0690-47ec-e7a9-3adcab5b0e60"
      },
      "outputs": [
        {
          "data": {
            "text/plain": [
              "True"
            ]
          },
          "execution_count": 14,
          "metadata": {},
          "output_type": "execute_result"
        }
      ],
      "source": [
        "palindrome('helleh')"
      ]
    },
    {
      "cell_type": "markdown",
      "metadata": {
        "id": "0I-c7Mh-hs3D"
      },
      "source": [
        "____\n",
        "#### Hard:\n",
        "\n",
        "**Write a Python function to check whether a string is pangram or not. (Assume the string passed in does not have any punctuation)**\n",
        "\n",
        "    Note : Pangrams are words or sentences containing every letter of the alphabet at least once.\n",
        "    For example : \"The quick brown fox jumps over the lazy dog\"\n",
        "\n",
        "Hint: You may want to use .replace() method to get rid of spaces.\n",
        "\n",
        "Hint: Look at the [string module](https://stackoverflow.com/questions/16060899/alphabet-range-in-python)\n",
        "\n",
        "Hint: In case you want to use [set comparisons](https://medium.com/better-programming/a-visual-guide-to-set-comparisons-in-python-6ab7edb9ec41)"
      ]
    },
    {
      "cell_type": "code",
      "execution_count": null,
      "metadata": {
        "collapsed": true,
        "id": "agEoaBUZhs3E"
      },
      "outputs": [],
      "source": [
        "import string\n",
        "\n",
        "def ispangram(str1, alphabet=string.ascii_lowercase):\n",
        "    pass"
      ]
    },
    {
      "cell_type": "code",
      "execution_count": null,
      "metadata": {
        "id": "sPXuoJ-hhs3E",
        "outputId": "4beba958-4b72-4877-a2dc-2771e4d7564b"
      },
      "outputs": [
        {
          "data": {
            "text/plain": [
              "True"
            ]
          },
          "execution_count": 16,
          "metadata": {},
          "output_type": "execute_result"
        }
      ],
      "source": [
        "ispangram(\"The quick brown fox jumps over the lazy dog\")"
      ]
    },
    {
      "cell_type": "code",
      "execution_count": null,
      "metadata": {
        "id": "C7snrWmNhs3E",
        "outputId": "a67751cf-4eab-49e0-a450-ac6cae422f0e"
      },
      "outputs": [
        {
          "data": {
            "text/plain": [
              "'abcdefghijklmnopqrstuvwxyz'"
            ]
          },
          "execution_count": 17,
          "metadata": {},
          "output_type": "execute_result"
        }
      ],
      "source": [
        "string.ascii_lowercase"
      ]
    },
    {
      "cell_type": "markdown",
      "metadata": {
        "collapsed": true,
        "id": "rm4actOrhs3F"
      },
      "source": [
        "#### Great Job!"
      ]
    }
  ],
  "metadata": {
    "kernelspec": {
      "display_name": "Python 3",
      "language": "python",
      "name": "python3"
    },
    "language_info": {
      "codemirror_mode": {
        "name": "ipython",
        "version": 3
      },
      "file_extension": ".py",
      "mimetype": "text/x-python",
      "name": "python",
      "nbconvert_exporter": "python",
      "pygments_lexer": "ipython3",
      "version": "3.6.6"
    },
    "colab": {
      "provenance": []
    }
  },
  "nbformat": 4,
  "nbformat_minor": 0
}